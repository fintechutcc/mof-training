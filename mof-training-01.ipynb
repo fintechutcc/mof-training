{
  "nbformat": 4,
  "nbformat_minor": 0,
  "metadata": {
    "colab": {
      "name": "ML_Lab_04.ipynb",
      "provenance": [],
      "authorship_tag": "ABX9TyMF5WaL3sPnZ8rL9VCpbsKM",
      "include_colab_link": true
    },
    "kernelspec": {
      "name": "python3",
      "display_name": "Python 3"
    }
  },
  "cells": [
    {
      "cell_type": "markdown",
      "metadata": {
        "id": "view-in-github",
        "colab_type": "text"
      },
      "source": [
        "<a href=\"https://colab.research.google.com/github/fintechutcc/mof-training/blob/main/mof-training-01.ipynb\" target=\"_parent\"><img src=\"https://colab.research.google.com/assets/colab-badge.svg\" alt=\"Open In Colab\"/></a>"
      ]
    },
    {
      "cell_type": "markdown",
      "metadata": {
        "id": "dRI_PyemwGe4"
      },
      "source": [
        "# ```sklearn``` API"
      ]
    },
    {
      "cell_type": "markdown",
      "metadata": {
        "id": "evvOAKwSw0CL"
      },
      "source": [
        "## ชุดข้อมูล (Datasets) \n",
        "ใน ```sklearn``` มีชุดข้อมูลที่สามารถนำมาใช้ในการทดสอบหลากหลาย และสะดวก รายละเอียดเพิ่มเติมดูได้ที่ [https://scikit-learn.org/stable/datasets/index.html](https://scikit-learn.org/stable/datasets/index.html)\n",
        "\n",
        "ตัวอย่างต่อไปนี้ เป็นการโหลดชุดข้อมูล Iris สังเกตว่า Class labels มี 3 ค่าคือ 0, 1, และ 2"
      ]
    },
    {
      "cell_type": "code",
      "metadata": {
        "id": "vEMbLUaFwAYY"
      },
      "source": [
        "from sklearn import datasets\n",
        "import numpy as np"
      ],
      "execution_count": null,
      "outputs": []
    },
    {
      "cell_type": "code",
      "metadata": {
        "id": "BayNEsAYwXRu",
        "outputId": "10c96777-1ab3-429b-bb44-b507e3555b94",
        "colab": {
          "base_uri": "https://localhost:8080/",
          "height": 34
        }
      },
      "source": [
        "iris = datasets.load_iris()\n",
        "X = iris.data[:, [2, 3]]\n",
        "y = iris.target\n",
        "\n",
        "print('Class labels:', np.unique(y))"
      ],
      "execution_count": null,
      "outputs": [
        {
          "output_type": "stream",
          "text": [
            "Class labels: [0 1 2]\n"
          ],
          "name": "stdout"
        }
      ]
    },
    {
      "cell_type": "markdown",
      "metadata": {
        "id": "keqiJ-YGyLGz"
      },
      "source": [
        "## การแบ่งและสำรวจชุดข้อมูล\n",
        "\n",
        "ใน ```sklearn``` มีชุดคำสั่งในการแยกข้อมูลออกเป็น ชุดข้อมูลสำหรับสอน (Training Data) และชุดข้อมูลสำหรับทดสอบ (Testing Data) โดยใช้ฟังก์ชัน train_test_split ดังนี้"
      ]
    },
    {
      "cell_type": "code",
      "metadata": {
        "id": "iXJ5iGHLwzVh",
        "outputId": "0e3a0b7b-db1b-4072-bbee-3206f78e2881",
        "colab": {
          "base_uri": "https://localhost:8080/",
          "height": 68
        }
      },
      "source": [
        "from sklearn.model_selection import train_test_split\n",
        "\n",
        "X_train, X_test, y_train, y_test = train_test_split(\n",
        "    X, y, test_size=0.30, random_state=2020, stratify=y)\n",
        "\n",
        "print('Labels counts in y:', np.bincount(y))\n",
        "print('Labels counts in y_train', np.bincount(y_train))\n",
        "print('Labels counts in y_test', np.bincount(y_test))"
      ],
      "execution_count": null,
      "outputs": [
        {
          "output_type": "stream",
          "text": [
            "Labels counts in y: [50 50 50]\n",
            "Labels counts in y_train [35 35 35]\n",
            "Labels counts in y_test [15 15 15]\n"
          ],
          "name": "stdout"
        }
      ]
    },
    {
      "cell_type": "markdown",
      "metadata": {
        "id": "-3fMc3u4ysOi"
      },
      "source": [
        "## Standardization\n",
        "```sklearn``` มีเครื่องมือในการทำ Feature Scaling โดยใช้ StandardScaler ดังนี้"
      ]
    },
    {
      "cell_type": "code",
      "metadata": {
        "id": "P4-DhbgpxsiN"
      },
      "source": [
        "from sklearn.preprocessing import StandardScaler\n",
        "\n",
        "ss = StandardScaler()\n",
        "ss.fit(X_train)\n",
        "X_train_std = ss.transform(X_train)\n",
        "X_test_std = ss.transform(X_test)"
      ],
      "execution_count": null,
      "outputs": []
    },
    {
      "cell_type": "markdown",
      "metadata": {
        "id": "5tXdw3lgzBjq"
      },
      "source": [
        "## Perceptron\n",
        "\n",
        "Perceptron เป็นหนึ่งใน linear models ที่รองรับใน ```sklearn``` ตัวอย่างการสร้าง Perceptron จาก sklearn เป็นดั่งเซลด้านล่างนี้"
      ]
    },
    {
      "cell_type": "code",
      "metadata": {
        "id": "JlOBrwnoyEtc",
        "outputId": "55b53009-4c14-4294-8010-0c16573abe23",
        "colab": {
          "base_uri": "https://localhost:8080/",
          "height": 85
        }
      },
      "source": [
        "from sklearn.linear_model import Perceptron\n",
        "\n",
        "perceptron = Perceptron(eta0 = 0.1, random_state = 2020)\n",
        "perceptron.fit(X_train_std, y_train)"
      ],
      "execution_count": null,
      "outputs": [
        {
          "output_type": "execute_result",
          "data": {
            "text/plain": [
              "Perceptron(alpha=0.0001, class_weight=None, early_stopping=False, eta0=0.1,\n",
              "           fit_intercept=True, max_iter=1000, n_iter_no_change=5, n_jobs=None,\n",
              "           penalty=None, random_state=2020, shuffle=True, tol=0.001,\n",
              "           validation_fraction=0.1, verbose=0, warm_start=False)"
            ]
          },
          "metadata": {
            "tags": []
          },
          "execution_count": 5
        }
      ]
    },
    {
      "cell_type": "code",
      "metadata": {
        "id": "-T6mvhkPyWaA",
        "outputId": "6de32e69-b646-4560-82b3-dd541ab2528d",
        "colab": {
          "base_uri": "https://localhost:8080/",
          "height": 34
        }
      },
      "source": [
        "y_pred = perceptron.predict(X_test_std)\n",
        "print('Misclassified examples: %d' % (y_test != y_pred).sum())"
      ],
      "execution_count": null,
      "outputs": [
        {
          "output_type": "stream",
          "text": [
            "Misclassified examples: 7\n"
          ],
          "name": "stdout"
        }
      ]
    },
    {
      "cell_type": "code",
      "metadata": {
        "id": "xqtsMEprwtvq",
        "outputId": "c20bff48-52de-4737-d9d2-e5b6efd3f207",
        "colab": {
          "base_uri": "https://localhost:8080/",
          "height": 782
        }
      },
      "source": [
        "X_test_std"
      ],
      "execution_count": null,
      "outputs": [
        {
          "output_type": "execute_result",
          "data": {
            "text/plain": [
              "array([[ 0.42427983,  0.16347763],\n",
              "       [ 1.04224099,  1.67401089],\n",
              "       [ 0.70517127,  1.12472607],\n",
              "       [-0.08132476,  0.16347763],\n",
              "       [ 0.53663641,  0.30079883],\n",
              "       [-1.20489051, -1.34705564],\n",
              "       [ 0.76134956,  1.67401089],\n",
              "       [ 0.64899298,  1.12472607],\n",
              "       [ 0.03103182, -0.11116479],\n",
              "       [-1.2610688 , -1.34705564],\n",
              "       [-1.2610688 , -1.48437684],\n",
              "       [-1.31724709, -1.34705564],\n",
              "       [ 0.64899298,  0.85008365],\n",
              "       [ 0.92988442,  1.53668968],\n",
              "       [ 1.77255873,  1.53668968],\n",
              "       [ 0.42427983,  0.43812004],\n",
              "       [ 0.19956668,  0.16347763],\n",
              "       [-0.13750305, -0.24848599],\n",
              "       [-1.2610688 , -1.34705564],\n",
              "       [-1.03635565, -1.07241323],\n",
              "       [ 0.25574497,  0.02615642],\n",
              "       [ 0.42427983,  0.43812004],\n",
              "       [ 1.09841928,  1.53668968],\n",
              "       [ 1.09841928,  1.81133209],\n",
              "       [-1.31724709, -1.34705564],\n",
              "       [-1.20489051, -1.34705564],\n",
              "       [ 1.32313243,  0.98740486],\n",
              "       [ 0.42427983,  0.57544124],\n",
              "       [ 0.48045812,  0.16347763],\n",
              "       [-1.2610688 , -1.48437684],\n",
              "       [ 1.21077586,  1.53668968],\n",
              "       [ 1.32313243,  1.53668968],\n",
              "       [ 0.76134956,  1.12472607],\n",
              "       [ 0.42427983,  0.71276245],\n",
              "       [-1.20489051, -1.34705564],\n",
              "       [-1.03635565, -1.34705564],\n",
              "       [ 0.25574497,  0.43812004],\n",
              "       [ 1.32313243,  1.81133209],\n",
              "       [-1.14871223, -1.07241323],\n",
              "       [-1.31724709, -1.34705564],\n",
              "       [-1.2610688 , -1.34705564],\n",
              "       [ 0.0872101 , -0.11116479],\n",
              "       [ 0.70517127,  0.71276245],\n",
              "       [ 0.36810154,  0.02615642],\n",
              "       [-1.2610688 , -1.34705564]])"
            ]
          },
          "metadata": {
            "tags": []
          },
          "execution_count": 7
        }
      ]
    },
    {
      "cell_type": "code",
      "metadata": {
        "id": "bjBpiubhxFqQ",
        "outputId": "2c7a38be-40bb-4f9c-8f5d-60c10b1788bd",
        "colab": {
          "base_uri": "https://localhost:8080/",
          "height": 34
        }
      },
      "source": [
        "a = [[0.42427983,  0.16347763], [-1.2610688 , -1.34705564]]\n",
        "pred = perceptron.predict(a)\n",
        "print(pred)"
      ],
      "execution_count": null,
      "outputs": [
        {
          "output_type": "stream",
          "text": [
            "[1 0]\n"
          ],
          "name": "stdout"
        }
      ]
    },
    {
      "cell_type": "code",
      "metadata": {
        "id": "L0SIb79yyrjB",
        "outputId": "d377e1b8-8b7f-4130-98f0-3b0031cfc4ca",
        "colab": {
          "base_uri": "https://localhost:8080/",
          "height": 34
        }
      },
      "source": [
        "from sklearn.metrics import accuracy_score\n",
        "\n",
        "print('Accuracy: %.3f' % accuracy_score(y_test, y_pred))"
      ],
      "execution_count": null,
      "outputs": [
        {
          "output_type": "stream",
          "text": [
            "Accuracy: 0.844\n"
          ],
          "name": "stdout"
        }
      ]
    },
    {
      "cell_type": "code",
      "metadata": {
        "id": "DeR8-HbyzJLX"
      },
      "source": [
        "from matplotlib.colors import ListedColormap\n",
        "import matplotlib.pyplot as plt\n",
        "def plot_decision_regions(X, y, classifier, test_idx=None,\n",
        "                          resolution=0.02):\n",
        "    # setup marker generator and color map\n",
        "    markers = ('s', 'x', 'o', '^', 'v')\n",
        "    colors = ('red', 'blue', 'lightgreen', 'gray', 'cyan')\n",
        "    cmap = ListedColormap(colors[:len(np.unique(y))])\n",
        "    \n",
        "    # plot the decision surface\n",
        "    x1_min, x1_max = X[:, 0].min() - 1, X[:, 0].max() + 1\n",
        "    x2_min, x2_max = X[:, 1].min() - 1, X[:, 1].max() + 1\n",
        "    xx1, xx2 = np.meshgrid(np.arange(x1_min, x1_max, resolution),\n",
        "                           np.arange(x2_min, x2_max, resolution))\n",
        "    Z = classifier.predict(np.array([xx1.ravel(), xx2.ravel()]).T)\n",
        "    Z = Z.reshape(xx1.shape)\n",
        "    plt.contourf(xx1, xx2, Z, alpha=0.3, cmap=cmap)\n",
        "    plt.xlim(xx1.min(), xx1.max())\n",
        "    plt.ylim(xx2.min(), xx2.max())\n",
        "    \n",
        "    for idx, cl in enumerate(np.unique(y)):\n",
        "        plt.scatter(x=X[y == cl, 0], y=X[y == cl, 1],\n",
        "                    alpha=0.8, c=colors[idx],\n",
        "                    marker=markers[idx], label=cl,\n",
        "                    edgecolor='black')\n",
        "    \n",
        "    # highlight test examples\n",
        "    if test_idx:\n",
        "        # plot all examples\n",
        "        X_test, y_test = X[test_idx, :], y[test_idx]\n",
        "        \n",
        "        plt.scatter(X_test[:, 0], X_test[:, 1],\n",
        "                    c='', edgecolor='black', alpha=1.0,\n",
        "                    linewidth=1, marker='o',\n",
        "                    s=100, label='test set')\n"
      ],
      "execution_count": null,
      "outputs": []
    },
    {
      "cell_type": "code",
      "metadata": {
        "id": "ih1rU-iUzQfe",
        "outputId": "d14cb764-fec7-434c-beda-3d83f8203010",
        "colab": {
          "base_uri": "https://localhost:8080/",
          "height": 334
        }
      },
      "source": [
        "X_combined_std = np.vstack((X_train_std, X_test_std))\n",
        "y_combined = np.hstack((y_train, y_test))\n",
        "plot_decision_regions(X=X_combined_std,\n",
        "                      y=y_combined,\n",
        "                      classifier=perceptron,\n",
        "                      test_idx=range(105, 150))\n",
        "plt.xlabel('petal length [standardized]')\n",
        "plt.ylabel('petal width [standardized]')\n",
        "plt.legend(loc='upper left')\n",
        "plt.tight_layout()\n",
        "plt.show()\n"
      ],
      "execution_count": null,
      "outputs": [
        {
          "output_type": "stream",
          "text": [
            "/usr/local/lib/python3.6/dist-packages/ipykernel_launcher.py:35: MatplotlibDeprecationWarning: Using a string of single character colors as a color sequence is deprecated. Use an explicit list instead.\n"
          ],
          "name": "stderr"
        },
        {
          "output_type": "display_data",
          "data": {
            "image/png": "[encoded data removed]",
            "text/plain": [
              "<Figure size 432x288 with 1 Axes>"
            ]
          },
          "metadata": {
            "tags": [],
            "needs_background": "light"
          }
        }
      ]
    }
  ]
}