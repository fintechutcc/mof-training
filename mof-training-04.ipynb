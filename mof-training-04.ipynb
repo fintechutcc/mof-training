{
  "nbformat": 4,
  "nbformat_minor": 0,
  "metadata": {
    "colab": {
      "name": "ML_Lab_07.ipynb",
      "provenance": [],
      "mount_file_id": "1eIGQpfFOsnNBg24KathZxIAxvsJxHs5J",
      "authorship_tag": "ABX9TyP02QxD9UtmBjnWq+GEb14S",
      "include_colab_link": true
    },
    "kernelspec": {
      "name": "python3",
      "display_name": "Python 3"
    }
  },
  "cells": [
    {
      "cell_type": "markdown",
      "metadata": {
        "id": "view-in-github",
        "colab_type": "text"
      },
      "source": [
        "<a href=\"https://colab.research.google.com/github/fintechutcc/mof-training/blob/main/mof-training-04.ipynb\" target=\"_parent\"><img src=\"https://colab.research.google.com/assets/colab-badge.svg\" alt=\"Open In Colab\"/></a>"
      ]
    },
    {
      "cell_type": "markdown",
      "metadata": {
        "id": "dIKVJl76XQxF"
      },
      "source": [
        "# การลดมิติของข้อมูล (Dimensionality Reduction)\n",
        "\n",
        "กลไกในการสกัดคุณลักษณะ (Feature Extraction) ของข้อมูล คือ การแปลงข้อมูลให้อยู่ในโดเมนใหม่ ซึ่งเมื่อพิจารณาถึงการลดมิติของข้อมูล การสกัดคุณลักษณะอาจหมายถึงการบีบอัดข้อมูล เพื่อให้ได้เฉพาะข้อมูลที่มีความสำคัญ ในทางปฏิบัติแล้ว การสกัดคุณลักษณะนอกจากจะช่วยลดพื้นที่ที่ใช้ในการจัดเก็บข้อมูล หรือทำให้การเรียนรู้มีประสิทธิภาพดีขึ้นแล้ว ยังทำให้ประสิทธิภาพของการทำนายดีขึ้นโดยการลด Curse of Dimensionality โดยเฉพาะเมื่อใช้แบบจำลองที่ไม่ผ่านการควบคุม (Non-Regularized Models)"
      ]
    },
    {
      "cell_type": "markdown",
      "metadata": {
        "id": "gZ1B0a6FaWkr"
      },
      "source": [
        "## Principle Component Analysis (PCA)\n",
        "\n",
        "PCA เป็นเทคนิคการแปลงข้อมูลเชิงเส้นแบบไม่มีการสอน (Unsupervised Linear Tranformation) สามารถนำมาประยุกต์ใช้กับการสกัดคุณลักษณะ การลดมิติของข้อมูล และการลดสัญญารบกวนในการประมวลผลสัญญาณเสียง เป็นต้น\n",
        "\n",
        "ขั้นตอน PCA มีดังนี้\n",
        "\n",
        "\n",
        "1.   ทำ Standardization บนชุดข้อมูล d คอลัมน์\n",
        "2.   คำนวณ Covariance Matrix\n",
        "3.   คำนวณ Eigenvalues และ Eigenvectors จาก Covariance Matrix\n",
        "4.   จัดเรียงค่า Eigenvector ตามค่า Eigenvalues จากมากไปน้อย\n",
        "5.   เลือก Eigenvectors จำนวน k ตัวแรก โดย k <= d\n",
        "6.   สร้าง W (Projection Matrix) จาก k Eigenvectors\n",
        "7.   แปลงชุดข้อมูลที่มี d คอลัมน์ให้เป็นชุดข้อมูลใหม่ที่มี k คอลัมน์โดยใช้ W\n",
        "\n"
      ]
    },
    {
      "cell_type": "markdown",
      "metadata": {
        "id": "xHDwNMa6SpzZ"
      },
      "source": [
        "## ตัวอย่าง\n",
        "\n",
        "โหลดข้อมูล wine ซึ่งมีทั้งสิ้น 14 คอลัมน์ โดยที่คอลัมน์ 0 เป็น target ส่วนคอลัมน์ 1 - 13 เป็นคุณลักษณะ (d = 13)"
      ]
    },
    {
      "cell_type": "code",
      "metadata": {
        "id": "YlRjcxChXP3o",
        "outputId": "288ce59d-bcb0-48ea-83ae-1ebd21495674",
        "colab": {
          "base_uri": "https://localhost:8080/",
          "height": 419
        }
      },
      "source": [
        "import pandas as pd\n",
        "import numpy as np\n",
        "\n",
        "df_wine = pd.read_csv('/content/drive/My Drive/data/ML/wine.data',  header=None)\n",
        "df_wine"
      ],
      "execution_count": 1,
      "outputs": [
        {
          "output_type": "execute_result",
          "data": {
            "text/html": [
              "<div>\n",
              "<style scoped>\n",
              "    .dataframe tbody tr th:only-of-type {\n",
              "        vertical-align: middle;\n",
              "    }\n",
              "\n",
              "    .dataframe tbody tr th {\n",
              "        vertical-align: top;\n",
              "    }\n",
              "\n",
              "    .dataframe thead th {\n",
              "        text-align: right;\n",
              "    }\n",
              "</style>\n",
              "<table border=\"1\" class=\"dataframe\">\n",
              "  <thead>\n",
              "    <tr style=\"text-align: right;\">\n",
              "      <th></th>\n",
              "      <th>0</th>\n",
              "      <th>1</th>\n",
              "      <th>2</th>\n",
              "      <th>3</th>\n",
              "      <th>4</th>\n",
              "      <th>5</th>\n",
              "      <th>6</th>\n",
              "      <th>7</th>\n",
              "      <th>8</th>\n",
              "      <th>9</th>\n",
              "      <th>10</th>\n",
              "      <th>11</th>\n",
              "      <th>12</th>\n",
              "      <th>13</th>\n",
              "    </tr>\n",
              "  </thead>\n",
              "  <tbody>\n",
              "    <tr>\n",
              "      <th>0</th>\n",
              "      <td>1</td>\n",
              "      <td>14.23</td>\n",
              "      <td>1.71</td>\n",
              "      <td>2.43</td>\n",
              "      <td>15.6</td>\n",
              "      <td>127</td>\n",
              "      <td>2.80</td>\n",
              "      <td>3.06</td>\n",
              "      <td>0.28</td>\n",
              "      <td>2.29</td>\n",
              "      <td>5.64</td>\n",
              "      <td>1.04</td>\n",
              "      <td>3.92</td>\n",
              "      <td>1065</td>\n",
              "    </tr>\n",
              "    <tr>\n",
              "      <th>1</th>\n",
              "      <td>1</td>\n",
              "      <td>13.20</td>\n",
              "      <td>1.78</td>\n",
              "      <td>2.14</td>\n",
              "      <td>11.2</td>\n",
              "      <td>100</td>\n",
              "      <td>2.65</td>\n",
              "      <td>2.76</td>\n",
              "      <td>0.26</td>\n",
              "      <td>1.28</td>\n",
              "      <td>4.38</td>\n",
              "      <td>1.05</td>\n",
              "      <td>3.40</td>\n",
              "      <td>1050</td>\n",
              "    </tr>\n",
              "    <tr>\n",
              "      <th>2</th>\n",
              "      <td>1</td>\n",
              "      <td>13.16</td>\n",
              "      <td>2.36</td>\n",
              "      <td>2.67</td>\n",
              "      <td>18.6</td>\n",
              "      <td>101</td>\n",
              "      <td>2.80</td>\n",
              "      <td>3.24</td>\n",
              "      <td>0.30</td>\n",
              "      <td>2.81</td>\n",
              "      <td>5.68</td>\n",
              "      <td>1.03</td>\n",
              "      <td>3.17</td>\n",
              "      <td>1185</td>\n",
              "    </tr>\n",
              "    <tr>\n",
              "      <th>3</th>\n",
              "      <td>1</td>\n",
              "      <td>14.37</td>\n",
              "      <td>1.95</td>\n",
              "      <td>2.50</td>\n",
              "      <td>16.8</td>\n",
              "      <td>113</td>\n",
              "      <td>3.85</td>\n",
              "      <td>3.49</td>\n",
              "      <td>0.24</td>\n",
              "      <td>2.18</td>\n",
              "      <td>7.80</td>\n",
              "      <td>0.86</td>\n",
              "      <td>3.45</td>\n",
              "      <td>1480</td>\n",
              "    </tr>\n",
              "    <tr>\n",
              "      <th>4</th>\n",
              "      <td>1</td>\n",
              "      <td>13.24</td>\n",
              "      <td>2.59</td>\n",
              "      <td>2.87</td>\n",
              "      <td>21.0</td>\n",
              "      <td>118</td>\n",
              "      <td>2.80</td>\n",
              "      <td>2.69</td>\n",
              "      <td>0.39</td>\n",
              "      <td>1.82</td>\n",
              "      <td>4.32</td>\n",
              "      <td>1.04</td>\n",
              "      <td>2.93</td>\n",
              "      <td>735</td>\n",
              "    </tr>\n",
              "    <tr>\n",
              "      <th>...</th>\n",
              "      <td>...</td>\n",
              "      <td>...</td>\n",
              "      <td>...</td>\n",
              "      <td>...</td>\n",
              "      <td>...</td>\n",
              "      <td>...</td>\n",
              "      <td>...</td>\n",
              "      <td>...</td>\n",
              "      <td>...</td>\n",
              "      <td>...</td>\n",
              "      <td>...</td>\n",
              "      <td>...</td>\n",
              "      <td>...</td>\n",
              "      <td>...</td>\n",
              "    </tr>\n",
              "    <tr>\n",
              "      <th>173</th>\n",
              "      <td>3</td>\n",
              "      <td>13.71</td>\n",
              "      <td>5.65</td>\n",
              "      <td>2.45</td>\n",
              "      <td>20.5</td>\n",
              "      <td>95</td>\n",
              "      <td>1.68</td>\n",
              "      <td>0.61</td>\n",
              "      <td>0.52</td>\n",
              "      <td>1.06</td>\n",
              "      <td>7.70</td>\n",
              "      <td>0.64</td>\n",
              "      <td>1.74</td>\n",
              "      <td>740</td>\n",
              "    </tr>\n",
              "    <tr>\n",
              "      <th>174</th>\n",
              "      <td>3</td>\n",
              "      <td>13.40</td>\n",
              "      <td>3.91</td>\n",
              "      <td>2.48</td>\n",
              "      <td>23.0</td>\n",
              "      <td>102</td>\n",
              "      <td>1.80</td>\n",
              "      <td>0.75</td>\n",
              "      <td>0.43</td>\n",
              "      <td>1.41</td>\n",
              "      <td>7.30</td>\n",
              "      <td>0.70</td>\n",
              "      <td>1.56</td>\n",
              "      <td>750</td>\n",
              "    </tr>\n",
              "    <tr>\n",
              "      <th>175</th>\n",
              "      <td>3</td>\n",
              "      <td>13.27</td>\n",
              "      <td>4.28</td>\n",
              "      <td>2.26</td>\n",
              "      <td>20.0</td>\n",
              "      <td>120</td>\n",
              "      <td>1.59</td>\n",
              "      <td>0.69</td>\n",
              "      <td>0.43</td>\n",
              "      <td>1.35</td>\n",
              "      <td>10.20</td>\n",
              "      <td>0.59</td>\n",
              "      <td>1.56</td>\n",
              "      <td>835</td>\n",
              "    </tr>\n",
              "    <tr>\n",
              "      <th>176</th>\n",
              "      <td>3</td>\n",
              "      <td>13.17</td>\n",
              "      <td>2.59</td>\n",
              "      <td>2.37</td>\n",
              "      <td>20.0</td>\n",
              "      <td>120</td>\n",
              "      <td>1.65</td>\n",
              "      <td>0.68</td>\n",
              "      <td>0.53</td>\n",
              "      <td>1.46</td>\n",
              "      <td>9.30</td>\n",
              "      <td>0.60</td>\n",
              "      <td>1.62</td>\n",
              "      <td>840</td>\n",
              "    </tr>\n",
              "    <tr>\n",
              "      <th>177</th>\n",
              "      <td>3</td>\n",
              "      <td>14.13</td>\n",
              "      <td>4.10</td>\n",
              "      <td>2.74</td>\n",
              "      <td>24.5</td>\n",
              "      <td>96</td>\n",
              "      <td>2.05</td>\n",
              "      <td>0.76</td>\n",
              "      <td>0.56</td>\n",
              "      <td>1.35</td>\n",
              "      <td>9.20</td>\n",
              "      <td>0.61</td>\n",
              "      <td>1.60</td>\n",
              "      <td>560</td>\n",
              "    </tr>\n",
              "  </tbody>\n",
              "</table>\n",
              "<p>178 rows × 14 columns</p>\n",
              "</div>"
            ],
            "text/plain": [
              "     0      1     2     3     4    5   ...    8     9      10    11    12    13\n",
              "0     1  14.23  1.71  2.43  15.6  127  ...  0.28  2.29   5.64  1.04  3.92  1065\n",
              "1     1  13.20  1.78  2.14  11.2  100  ...  0.26  1.28   4.38  1.05  3.40  1050\n",
              "2     1  13.16  2.36  2.67  18.6  101  ...  0.30  2.81   5.68  1.03  3.17  1185\n",
              "3     1  14.37  1.95  2.50  16.8  113  ...  0.24  2.18   7.80  0.86  3.45  1480\n",
              "4     1  13.24  2.59  2.87  21.0  118  ...  0.39  1.82   4.32  1.04  2.93   735\n",
              "..   ..    ...   ...   ...   ...  ...  ...   ...   ...    ...   ...   ...   ...\n",
              "173   3  13.71  5.65  2.45  20.5   95  ...  0.52  1.06   7.70  0.64  1.74   740\n",
              "174   3  13.40  3.91  2.48  23.0  102  ...  0.43  1.41   7.30  0.70  1.56   750\n",
              "175   3  13.27  4.28  2.26  20.0  120  ...  0.43  1.35  10.20  0.59  1.56   835\n",
              "176   3  13.17  2.59  2.37  20.0  120  ...  0.53  1.46   9.30  0.60  1.62   840\n",
              "177   3  14.13  4.10  2.74  24.5   96  ...  0.56  1.35   9.20  0.61  1.60   560\n",
              "\n",
              "[178 rows x 14 columns]"
            ]
          },
          "metadata": {
            "tags": []
          },
          "execution_count": 1
        }
      ]
    },
    {
      "cell_type": "markdown",
      "metadata": {
        "id": "Dt-72QhWS3e0"
      },
      "source": [
        "### ขั้นตอนที่ 1: Standardization\n",
        "X คือ คอลัมน์ 1 ถึงคอลัมน์สุดท้าย\n",
        "\n",
        "y คือ คอลัมน์ 0"
      ]
    },
    {
      "cell_type": "code",
      "metadata": {
        "id": "nyK9JeHsiBlm"
      },
      "source": [
        "from sklearn.model_selection import train_test_split\n",
        "X, y = df_wine.iloc[:, 1:].values, df_wine.iloc[:, 0].values\n",
        "X_train, X_test, y_train, y_test = train_test_split(X, y, test_size=0.3, stratify=y,random_state=2020)\n",
        "\n",
        "# standardize the features\n",
        "from sklearn.preprocessing import StandardScaler\n",
        "ss = StandardScaler()\n",
        "X_train_std = ss.fit_transform(X_train)\n",
        "X_test_std = ss.transform(X_test)"
      ],
      "execution_count": 2,
      "outputs": []
    },
    {
      "cell_type": "markdown",
      "metadata": {
        "id": "ANCVOfwiS-4x"
      },
      "source": [
        "### ขั้นตอนที่ 2-3: คำนวณ Covariance Matrix และ Eigenvalues/Eigenvectors"
      ]
    },
    {
      "cell_type": "code",
      "metadata": {
        "id": "fvtK9plKuvli",
        "outputId": "b8c6b664-0d5f-4aed-ef38-9bc5c6751d66",
        "colab": {
          "base_uri": "https://localhost:8080/"
        }
      },
      "source": [
        "cov_mat = np.cov(X_train_std.T)\n",
        "eigen_vals, eigen_vecs = np.linalg.eig(cov_mat)\n",
        "print('Eigenvalues:\\n%s' % eigen_vals)"
      ],
      "execution_count": 3,
      "outputs": [
        {
          "output_type": "stream",
          "text": [
            "Eigenvalues:\n",
            "[4.5790743  2.46113225 1.54324502 0.99885222 0.88863091 0.69891996\n",
            " 0.5858209  0.33650213 0.32100872 0.10396638 0.15683912 0.22904043\n",
            " 0.20265872]\n"
          ],
          "name": "stdout"
        }
      ]
    },
    {
      "cell_type": "markdown",
      "metadata": {
        "id": "bEKqZCh_TfIY"
      },
      "source": [
        "### ขั้นตอนที่ 4: จัดเรียงค่า Eigenvector ตามค่า Eigenvalues จากมากไปน้อย"
      ]
    },
    {
      "cell_type": "code",
      "metadata": {
        "id": "JBXH1AKtwkT5"
      },
      "source": [
        "# Make a list of (eigenvalue, eigenvector) tuples\n",
        "eigen_pairs = [(np.abs(eigen_vals[i]), eigen_vecs[:, i])\n",
        "               for i in range(len(eigen_vals))]\n",
        "# Sort the (eigenvalue, eigenvector) tuples from high to low\n",
        "eigen_pairs.sort(key=lambda k: k[0], reverse=True)"
      ],
      "execution_count": 4,
      "outputs": []
    },
    {
      "cell_type": "markdown",
      "metadata": {
        "id": "Ok92VcxkU7qx"
      },
      "source": [
        "### ขั้นตอนที่ 5: เลือก Eigenvectors จำนวน k ตัวแรก โดย k <= d\n",
        "\n",
        "จากกราฟด้านล่างนี้ เห็นได้ว่าความสำคัญของ Principle Component Index 1 และ 2 รวมกันแล้วประมาณเกือบ 60% ของคุณลักษณะทั้งหมด เพื่อให้ง่ายต่อการพล็อตในขั้นตอนต่อไป จึงเลือก k=2 \n",
        "\n",
        "ในทางปฏิบัติ อาจจำเป็นเลือกจำนวน k ที่มากกว่านี้ เพื่อให้ครอบคลุมคุณลักษณะส่วนใหญ่"
      ]
    },
    {
      "cell_type": "code",
      "metadata": {
        "id": "ZxF1q-xDvqy_",
        "outputId": "59bad082-b3dc-4dd8-b5ae-410c242b8f8b",
        "colab": {
          "base_uri": "https://localhost:8080/",
          "height": 297
        }
      },
      "source": [
        "tot = sum(eigen_vals)\n",
        "var_exp = [(i / tot) for i in\n",
        "           sorted(eigen_vals, reverse=True)]\n",
        "cum_var_exp = np.cumsum(var_exp)\n",
        "\n",
        "import matplotlib.pyplot as plt\n",
        "plt.bar(range(1,14), var_exp, alpha=0.5, align='center',\n",
        "        label='Individual explained variance')\n",
        "plt.step(range(1,14), cum_var_exp, where='mid',\n",
        "         label='Cumulative explained variance')\n",
        "plt.ylabel('Explained variance ratio')\n",
        "plt.xlabel('Principal component index')\n",
        "plt.legend(loc='best')\n",
        "plt.tight_layout()\n",
        "plt.show()"
      ],
      "execution_count": 5,
      "outputs": [
        {
          "output_type": "display_data",
          "data": {
            "image/png": "[encoded data removed]",
            "text/plain": [
              "<Figure size 432x288 with 1 Axes>"
            ]
          },
          "metadata": {
            "tags": [],
            "needs_background": "light"
          }
        }
      ]
    },
    {
      "cell_type": "markdown",
      "metadata": {
        "id": "OAO_nWCRT9d3"
      },
      "source": [
        "### ขั้นตอนที่ 6: สร้าง W (Projection Matrix) จาก k Eigenvectors\n",
        "\n",
        "กรณีตัวอย่างนี้ ให้ k=2 "
      ]
    },
    {
      "cell_type": "code",
      "metadata": {
        "id": "nl0Ilbutw9A6",
        "outputId": "f69bafb6-e6b5-44d1-b9fe-1aedda9cb08f",
        "colab": {
          "base_uri": "https://localhost:8080/"
        }
      },
      "source": [
        "w = np.hstack((eigen_pairs[0][1][:, np.newaxis],\n",
        "               eigen_pairs[1][1][:, np.newaxis]))\n",
        "print('Matrix W:\\n', w)"
      ],
      "execution_count": 6,
      "outputs": [
        {
          "output_type": "stream",
          "text": [
            "Matrix W:\n",
            " [[-0.13380668  0.47979338]\n",
            " [ 0.2382062   0.22204778]\n",
            " [-0.01564323  0.34105996]\n",
            " [ 0.24010471  0.02277107]\n",
            " [-0.10866237  0.32277034]\n",
            " [-0.3998582   0.06458716]\n",
            " [-0.43061879  0.01843235]\n",
            " [ 0.27102104  0.05636037]\n",
            " [-0.30946869  0.09793848]\n",
            " [ 0.11596917  0.5157007 ]\n",
            " [-0.31843441 -0.25635071]\n",
            " [-0.38945095 -0.13575563]\n",
            " [-0.27310679  0.36345536]]\n"
          ],
          "name": "stdout"
        }
      ]
    },
    {
      "cell_type": "markdown",
      "metadata": {
        "id": "AKavvP66WcRa"
      },
      "source": [
        "### ขั้นตอนที่ 7: แปลงชุดข้อมูลที่มี d คอลัมน์ให้เป็นชุดข้อมูลใหม่ที่มี k คอลัมน์โดยใช้ W\n",
        "\n",
        "ทำได้โดยนำ X_Train_std dot w"
      ]
    },
    {
      "cell_type": "code",
      "metadata": {
        "id": "rMQdWY1wxFJJ"
      },
      "source": [
        "X_train_pca = X_train_std.dot(w)"
      ],
      "execution_count": 7,
      "outputs": []
    },
    {
      "cell_type": "code",
      "metadata": {
        "id": "WJcq-YPSxTBH",
        "outputId": "3fe70418-fe5c-44f5-dfdd-9ab02946d626",
        "colab": {
          "base_uri": "https://localhost:8080/",
          "height": 297
        }
      },
      "source": [
        "colors = ['r', 'b', 'g']\n",
        "markers = ['s', 'x', 'o']\n",
        "for l, c, m in zip(np.unique(y_train), colors, markers):\n",
        "    plt.scatter(X_train_pca[y_train==l, 0],\n",
        "                X_train_pca[y_train==l, 1],\n",
        "                c=c, label=l, marker=m)\n",
        "plt.xlabel('PC 1')\n",
        "plt.ylabel('PC 2')\n",
        "plt.legend(loc='lower left')\n",
        "plt.tight_layout()\n",
        "plt.show()\n"
      ],
      "execution_count": 8,
      "outputs": [
        {
          "output_type": "display_data",
          "data": {
            "image/png": "[encoded data removed]",
            "text/plain": [
              "<Figure size 432x288 with 1 Axes>"
            ]
          },
          "metadata": {
            "tags": [],
            "needs_background": "light"
          }
        }
      ]
    },
    {
      "cell_type": "code",
      "metadata": {
        "id": "xN6YDcdjxukg"
      },
      "source": [
        "from matplotlib.colors import ListedColormap\n",
        "def plot_decision_regions(X, y, classifier, resolution=0.02):\n",
        "    \n",
        "    # setup marker generator and color map\n",
        "    markers = ('s', 'x', 'o', '^', 'v')\n",
        "    colors = ('red', 'blue', 'lightgreen', 'gray', 'cyan')\n",
        "    cmap = ListedColormap(colors[:len(np.unique(y))])\n",
        "    \n",
        "    # plot the decision surface\n",
        "    x1_min, x1_max = X[:, 0].min() - 1, X[:, 0].max() + 1\n",
        "    x2_min, x2_max = X[:, 1].min() - 1, X[:, 1].max() + 1\n",
        "    xx1, xx2 = np.meshgrid(np.arange(x1_min, x1_max, resolution),\n",
        "                           np.arange(x2_min, x2_max, resolution))\n",
        "    Z = classifier.predict(np.array([xx1.ravel(), xx2.ravel()]).T)\n",
        "    Z = Z.reshape(xx1.shape)\n",
        "    plt.contourf(xx1, xx2, Z, alpha=0.4, cmap=cmap)\n",
        "    plt.xlim(xx1.min(), xx1.max())\n",
        "    plt.ylim(xx2.min(), xx2.max())\n",
        "    \n",
        "    # plot examples by class\n",
        "    for idx, cl in enumerate(np.unique(y)):\n",
        "        plt.scatter(x=X[y == cl, 0],\n",
        "                    y=X[y == cl, 1],\n",
        "                    alpha=0.6,\n",
        "                    color=cmap(idx),\n",
        "                    edgecolor='black',\n",
        "                    marker=markers[idx],\n",
        "                    label=cl)\n"
      ],
      "execution_count": 9,
      "outputs": []
    },
    {
      "cell_type": "markdown",
      "metadata": {
        "id": "YdoOHq_NYJgr"
      },
      "source": [
        "## PCA โดยใช้ sklearn APIs"
      ]
    },
    {
      "cell_type": "code",
      "metadata": {
        "id": "vTJGQVRhx-xw",
        "outputId": "9004228d-4513-4bdb-d062-b65d429f75ca",
        "colab": {
          "base_uri": "https://localhost:8080/",
          "height": 297
        }
      },
      "source": [
        "from sklearn.linear_model import LogisticRegression\n",
        "from sklearn.decomposition import PCA\n",
        "# initializing the PCA transformer and\n",
        "# logistic regression estimator:\n",
        "pca = PCA(n_components=2)\n",
        "lr = LogisticRegression(multi_class='ovr',\n",
        "                        random_state=2020,\n",
        "                        solver='lbfgs')\n",
        "# dimensionality reduction:\n",
        "X_train_pca = pca.fit_transform(X_train_std)\n",
        "X_test_pca = pca.transform(X_test_std)\n",
        "# fitting the logistic regression model on the reduced dataset:\n",
        "lr.fit(X_train_pca, y_train)\n",
        "plot_decision_regions(X_train_pca, y_train, classifier=lr)\n",
        "plt.xlabel('PC 1')\n",
        "plt.ylabel('PC 2')\n",
        "plt.legend(loc='lower left')\n",
        "plt.tight_layout()\n",
        "plt.show()"
      ],
      "execution_count": 10,
      "outputs": [
        {
          "output_type": "display_data",
          "data": {
            "image/png": "[encoded data removed]",
            "text/plain": [
              "<Figure size 432x288 with 1 Axes>"
            ]
          },
          "metadata": {
            "tags": [],
            "needs_background": "light"
          }
        }
      ]
    },
    {
      "cell_type": "markdown",
      "metadata": {
        "id": "nJoe5UBFbKgW"
      },
      "source": [
        "### Note\n",
        "\n",
        "เราสามารถสร้าง PCA ที่กำหนดค่าเริ่มต้น n_components=None ได้ เมื่อเรียกใช้ฟังก์ชัน fit_transform ทำ PCA คำนวณ"
      ]
    },
    {
      "cell_type": "code",
      "metadata": {
        "id": "tCuO077Ia5bQ",
        "outputId": "9c8193bb-d7c1-4015-fb1f-ca0e3858e32f",
        "colab": {
          "base_uri": "https://localhost:8080/"
        }
      },
      "source": [
        "pca = PCA(n_components=None)\n",
        "X_train_pca = pca.fit_transform(X_train_std)\n",
        "pca.explained_variance_ratio_"
      ],
      "execution_count": 11,
      "outputs": [
        {
          "output_type": "execute_result",
          "data": {
            "text/plain": [
              "array([0.34939587, 0.18779111, 0.11775381, 0.07621515, 0.06780496,\n",
              "       0.0533295 , 0.04469973, 0.02567603, 0.02449384, 0.01747641,\n",
              "       0.01546341, 0.01196725, 0.00793292])"
            ]
          },
          "metadata": {
            "tags": []
          },
          "execution_count": 11
        }
      ]
    }
  ]
}