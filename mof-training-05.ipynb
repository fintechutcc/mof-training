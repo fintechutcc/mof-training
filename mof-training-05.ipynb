{
  "nbformat": 4,
  "nbformat_minor": 0,
  "metadata": {
    "colab": {
      "name": "ML_Lab_08.ipynb",
      "provenance": [],
      "mount_file_id": "1eXnc5WyjDnqZgZZrUZpew2VY2Eojhv70",
      "authorship_tag": "ABX9TyMS5r1fhlf5rcMy4Mn4INUx",
      "include_colab_link": true
    },
    "kernelspec": {
      "name": "python3",
      "display_name": "Python 3"
    }
  },
  "cells": [
    {
      "cell_type": "markdown",
      "metadata": {
        "id": "view-in-github",
        "colab_type": "text"
      },
      "source": [
        "<a href=\"https://colab.research.google.com/github/fintechutcc/mof-training/blob/main/mof-training-05.ipynb\" target=\"_parent\"><img src=\"https://colab.research.google.com/assets/colab-badge.svg\" alt=\"Open In Colab\"/></a>"
      ]
    },
    {
      "cell_type": "markdown",
      "metadata": {
        "id": "UcQO4jCD-z4p"
      },
      "source": [
        "# Linear Discriminant Analysis (LDA)\n",
        "\n",
        "LDA เป็นเทคนิคในการแปลงข้อมูลอย่างหนึ่ง มีหลักการใกล้เคียงกับ PCA ต่างกันที่ PCA นั้นเป็นเทคนิคที่เป็น Unsupervised Learning ในขณะที่ LDA นั้นมีการคำนวณค่าเฉลี่ยของคลาสหรือเลเบล ดังนั้นกล่าวได้ว่า LDA เป็น Supervised Learning \n"
      ]
    },
    {
      "cell_type": "markdown",
      "metadata": {
        "id": "Q3FEAAuF_vvp"
      },
      "source": [
        "## ขั้นตอนของ LDA\n",
        "\n",
        "การแปลงข้อมูลโดยใช้ LDA ทำได้ดังนี้\n",
        "\n",
        "\n",
        "\n",
        "1.   ทำการ Standardization บนข้อมูลที่ใช้ในการเรียนรู้\n",
        "2.   สร้าง Mean Vectors โดยคำนวณค่าเฉลี่ยของแต่ละคอลัมน์แยกตามเลเบลของข้อมูล\n",
        "3.   สร้าง Within-Class Scatter Matrix, Sw และ Between-Class Scatter Matrix, Sb\n",
        "4.   สร้าง Eigenvectors และ Eigenvalues ของเมตริกซ์ Sw^(-1).Sb\n",
        "5.   เรียงลำดับ Eigenvectors ตามค่า Eigenvalues จากมากไปน้อย\n",
        "6.   เลือก k Eigenvectors เพื่อนำมาสร้าง Projection Matrix W ขนาด dxk\n",
        "7.   แปลงข้อมูล X เป็น X' โดย X' = X.W\n",
        "\n",
        "\n"
      ]
    },
    {
      "cell_type": "code",
      "metadata": {
        "id": "2TASw9Vr-h-a",
        "outputId": "20b30c98-1020-409c-ce85-ac8e29d9418d",
        "colab": {
          "base_uri": "https://localhost:8080/",
          "height": 448
        }
      },
      "source": [
        "import pandas as pd\n",
        "import numpy as np\n",
        "\n",
        "df_wine = pd.read_csv('/content/drive/My Drive/data/ML/wine.data')\n",
        "df_wine"
      ],
      "execution_count": null,
      "outputs": [
        {
          "output_type": "execute_result",
          "data": {
            "text/html": [
              "<div>\n",
              "<style scoped>\n",
              "    .dataframe tbody tr th:only-of-type {\n",
              "        vertical-align: middle;\n",
              "    }\n",
              "\n",
              "    .dataframe tbody tr th {\n",
              "        vertical-align: top;\n",
              "    }\n",
              "\n",
              "    .dataframe thead th {\n",
              "        text-align: right;\n",
              "    }\n",
              "</style>\n",
              "<table border=\"1\" class=\"dataframe\">\n",
              "  <thead>\n",
              "    <tr style=\"text-align: right;\">\n",
              "      <th></th>\n",
              "      <th>1</th>\n",
              "      <th>14.23</th>\n",
              "      <th>1.71</th>\n",
              "      <th>2.43</th>\n",
              "      <th>15.6</th>\n",
              "      <th>127</th>\n",
              "      <th>2.8</th>\n",
              "      <th>3.06</th>\n",
              "      <th>.28</th>\n",
              "      <th>2.29</th>\n",
              "      <th>5.64</th>\n",
              "      <th>1.04</th>\n",
              "      <th>3.92</th>\n",
              "      <th>1065</th>\n",
              "    </tr>\n",
              "  </thead>\n",
              "  <tbody>\n",
              "    <tr>\n",
              "      <th>0</th>\n",
              "      <td>1</td>\n",
              "      <td>13.20</td>\n",
              "      <td>1.78</td>\n",
              "      <td>2.14</td>\n",
              "      <td>11.2</td>\n",
              "      <td>100</td>\n",
              "      <td>2.65</td>\n",
              "      <td>2.76</td>\n",
              "      <td>0.26</td>\n",
              "      <td>1.28</td>\n",
              "      <td>4.38</td>\n",
              "      <td>1.05</td>\n",
              "      <td>3.40</td>\n",
              "      <td>1050</td>\n",
              "    </tr>\n",
              "    <tr>\n",
              "      <th>1</th>\n",
              "      <td>1</td>\n",
              "      <td>13.16</td>\n",
              "      <td>2.36</td>\n",
              "      <td>2.67</td>\n",
              "      <td>18.6</td>\n",
              "      <td>101</td>\n",
              "      <td>2.80</td>\n",
              "      <td>3.24</td>\n",
              "      <td>0.30</td>\n",
              "      <td>2.81</td>\n",
              "      <td>5.68</td>\n",
              "      <td>1.03</td>\n",
              "      <td>3.17</td>\n",
              "      <td>1185</td>\n",
              "    </tr>\n",
              "    <tr>\n",
              "      <th>2</th>\n",
              "      <td>1</td>\n",
              "      <td>14.37</td>\n",
              "      <td>1.95</td>\n",
              "      <td>2.50</td>\n",
              "      <td>16.8</td>\n",
              "      <td>113</td>\n",
              "      <td>3.85</td>\n",
              "      <td>3.49</td>\n",
              "      <td>0.24</td>\n",
              "      <td>2.18</td>\n",
              "      <td>7.80</td>\n",
              "      <td>0.86</td>\n",
              "      <td>3.45</td>\n",
              "      <td>1480</td>\n",
              "    </tr>\n",
              "    <tr>\n",
              "      <th>3</th>\n",
              "      <td>1</td>\n",
              "      <td>13.24</td>\n",
              "      <td>2.59</td>\n",
              "      <td>2.87</td>\n",
              "      <td>21.0</td>\n",
              "      <td>118</td>\n",
              "      <td>2.80</td>\n",
              "      <td>2.69</td>\n",
              "      <td>0.39</td>\n",
              "      <td>1.82</td>\n",
              "      <td>4.32</td>\n",
              "      <td>1.04</td>\n",
              "      <td>2.93</td>\n",
              "      <td>735</td>\n",
              "    </tr>\n",
              "    <tr>\n",
              "      <th>4</th>\n",
              "      <td>1</td>\n",
              "      <td>14.20</td>\n",
              "      <td>1.76</td>\n",
              "      <td>2.45</td>\n",
              "      <td>15.2</td>\n",
              "      <td>112</td>\n",
              "      <td>3.27</td>\n",
              "      <td>3.39</td>\n",
              "      <td>0.34</td>\n",
              "      <td>1.97</td>\n",
              "      <td>6.75</td>\n",
              "      <td>1.05</td>\n",
              "      <td>2.85</td>\n",
              "      <td>1450</td>\n",
              "    </tr>\n",
              "    <tr>\n",
              "      <th>...</th>\n",
              "      <td>...</td>\n",
              "      <td>...</td>\n",
              "      <td>...</td>\n",
              "      <td>...</td>\n",
              "      <td>...</td>\n",
              "      <td>...</td>\n",
              "      <td>...</td>\n",
              "      <td>...</td>\n",
              "      <td>...</td>\n",
              "      <td>...</td>\n",
              "      <td>...</td>\n",
              "      <td>...</td>\n",
              "      <td>...</td>\n",
              "      <td>...</td>\n",
              "    </tr>\n",
              "    <tr>\n",
              "      <th>172</th>\n",
              "      <td>3</td>\n",
              "      <td>13.71</td>\n",
              "      <td>5.65</td>\n",
              "      <td>2.45</td>\n",
              "      <td>20.5</td>\n",
              "      <td>95</td>\n",
              "      <td>1.68</td>\n",
              "      <td>0.61</td>\n",
              "      <td>0.52</td>\n",
              "      <td>1.06</td>\n",
              "      <td>7.70</td>\n",
              "      <td>0.64</td>\n",
              "      <td>1.74</td>\n",
              "      <td>740</td>\n",
              "    </tr>\n",
              "    <tr>\n",
              "      <th>173</th>\n",
              "      <td>3</td>\n",
              "      <td>13.40</td>\n",
              "      <td>3.91</td>\n",
              "      <td>2.48</td>\n",
              "      <td>23.0</td>\n",
              "      <td>102</td>\n",
              "      <td>1.80</td>\n",
              "      <td>0.75</td>\n",
              "      <td>0.43</td>\n",
              "      <td>1.41</td>\n",
              "      <td>7.30</td>\n",
              "      <td>0.70</td>\n",
              "      <td>1.56</td>\n",
              "      <td>750</td>\n",
              "    </tr>\n",
              "    <tr>\n",
              "      <th>174</th>\n",
              "      <td>3</td>\n",
              "      <td>13.27</td>\n",
              "      <td>4.28</td>\n",
              "      <td>2.26</td>\n",
              "      <td>20.0</td>\n",
              "      <td>120</td>\n",
              "      <td>1.59</td>\n",
              "      <td>0.69</td>\n",
              "      <td>0.43</td>\n",
              "      <td>1.35</td>\n",
              "      <td>10.20</td>\n",
              "      <td>0.59</td>\n",
              "      <td>1.56</td>\n",
              "      <td>835</td>\n",
              "    </tr>\n",
              "    <tr>\n",
              "      <th>175</th>\n",
              "      <td>3</td>\n",
              "      <td>13.17</td>\n",
              "      <td>2.59</td>\n",
              "      <td>2.37</td>\n",
              "      <td>20.0</td>\n",
              "      <td>120</td>\n",
              "      <td>1.65</td>\n",
              "      <td>0.68</td>\n",
              "      <td>0.53</td>\n",
              "      <td>1.46</td>\n",
              "      <td>9.30</td>\n",
              "      <td>0.60</td>\n",
              "      <td>1.62</td>\n",
              "      <td>840</td>\n",
              "    </tr>\n",
              "    <tr>\n",
              "      <th>176</th>\n",
              "      <td>3</td>\n",
              "      <td>14.13</td>\n",
              "      <td>4.10</td>\n",
              "      <td>2.74</td>\n",
              "      <td>24.5</td>\n",
              "      <td>96</td>\n",
              "      <td>2.05</td>\n",
              "      <td>0.76</td>\n",
              "      <td>0.56</td>\n",
              "      <td>1.35</td>\n",
              "      <td>9.20</td>\n",
              "      <td>0.61</td>\n",
              "      <td>1.60</td>\n",
              "      <td>560</td>\n",
              "    </tr>\n",
              "  </tbody>\n",
              "</table>\n",
              "<p>177 rows × 14 columns</p>\n",
              "</div>"
            ],
            "text/plain": [
              "     1  14.23  1.71  2.43  15.6  127  ...   .28  2.29   5.64  1.04  3.92  1065\n",
              "0    1  13.20  1.78  2.14  11.2  100  ...  0.26  1.28   4.38  1.05  3.40  1050\n",
              "1    1  13.16  2.36  2.67  18.6  101  ...  0.30  2.81   5.68  1.03  3.17  1185\n",
              "2    1  14.37  1.95  2.50  16.8  113  ...  0.24  2.18   7.80  0.86  3.45  1480\n",
              "3    1  13.24  2.59  2.87  21.0  118  ...  0.39  1.82   4.32  1.04  2.93   735\n",
              "4    1  14.20  1.76  2.45  15.2  112  ...  0.34  1.97   6.75  1.05  2.85  1450\n",
              "..  ..    ...   ...   ...   ...  ...  ...   ...   ...    ...   ...   ...   ...\n",
              "172  3  13.71  5.65  2.45  20.5   95  ...  0.52  1.06   7.70  0.64  1.74   740\n",
              "173  3  13.40  3.91  2.48  23.0  102  ...  0.43  1.41   7.30  0.70  1.56   750\n",
              "174  3  13.27  4.28  2.26  20.0  120  ...  0.43  1.35  10.20  0.59  1.56   835\n",
              "175  3  13.17  2.59  2.37  20.0  120  ...  0.53  1.46   9.30  0.60  1.62   840\n",
              "176  3  14.13  4.10  2.74  24.5   96  ...  0.56  1.35   9.20  0.61  1.60   560\n",
              "\n",
              "[177 rows x 14 columns]"
            ]
          },
          "metadata": {
            "tags": []
          },
          "execution_count": 1
        }
      ]
    },
    {
      "cell_type": "code",
      "metadata": {
        "id": "bOkKYTNuERnM"
      },
      "source": [
        "from sklearn.model_selection import train_test_split\n",
        "\n",
        "X = df_wine.iloc[:, 1:].values\n",
        "y = df_wine.iloc[:, 0].values\n",
        "\n",
        "X_train, X_test, y_train, y_test = train_test_split(X, y, test_size=0.3, stratify=y, random_state=2020)"
      ],
      "execution_count": null,
      "outputs": []
    },
    {
      "cell_type": "markdown",
      "metadata": {
        "id": "ohvMPrQvGEpq"
      },
      "source": [
        "## ขั้นตอนที่ 1: ทำการ Standardization บนข้อมูลที่ใช้ในการเรียนรู้"
      ]
    },
    {
      "cell_type": "code",
      "metadata": {
        "id": "BJUmOKtQGDpw"
      },
      "source": [
        "from sklearn.preprocessing import StandardScaler\n",
        "\n",
        "ss = StandardScaler()\n",
        "X_train_std = ss.fit_transform(X_train)\n",
        "X_test_std  = ss.transform(X_test)"
      ],
      "execution_count": null,
      "outputs": []
    },
    {
      "cell_type": "markdown",
      "metadata": {
        "id": "BI35u40kGdp8"
      },
      "source": [
        "## ขั้นตอนที่ 2: สร้าง Mean Vectors โดยคำนวณค่าเฉลี่ยของแต่ละคอลัมน์แยกตามเลเบลของข้อมูล"
      ]
    },
    {
      "cell_type": "code",
      "metadata": {
        "id": "C8UaLcMaDrBM",
        "outputId": "1098fa83-7d0e-4d13-b464-9cbce0a7cc40",
        "colab": {
          "base_uri": "https://localhost:8080/"
        }
      },
      "source": [
        "np.set_printoptions(precision=4)\n",
        "mean_vecs = []\n",
        "for label in range(1,4):\n",
        "    mean_vecs.append(np.mean(X_train_std[y_train==label], axis=0))\n",
        "    print('MV %s: %s\\n' %(label, mean_vecs[label-1]))"
      ],
      "execution_count": null,
      "outputs": [
        {
          "output_type": "stream",
          "text": [
            "MV 1: [ 0.8902 -0.2806  0.2905 -0.7732  0.4018  0.8083  0.9194 -0.555   0.4749\n",
            "  0.1265  0.489   0.7876  1.1872]\n",
            "\n",
            "MV 2: [-0.9044 -0.4028 -0.427   0.189  -0.3524  0.0072  0.082  -0.0088  0.0737\n",
            " -0.833   0.4567  0.2357 -0.7076]\n",
            "\n",
            "MV 3: [ 0.2562  0.9106  0.2737  0.6372  0.0351 -0.9614 -1.1999  0.6657 -0.6648\n",
            "  1.0517 -1.2335 -1.2663 -0.377 ]\n",
            "\n"
          ],
          "name": "stdout"
        }
      ]
    },
    {
      "cell_type": "markdown",
      "metadata": {
        "id": "pj8mHR8LH2Eh"
      },
      "source": [
        "## ขั้นตอนที่ 3: สร้าง Within-Class Scatter Matrix, Sw และ Between-Class Scatter Matrix, Sb"
      ]
    },
    {
      "cell_type": "code",
      "metadata": {
        "id": "ybu-9oPzIzA5",
        "outputId": "88d414a4-e582-47ed-d8ab-f2cbee2fc78d",
        "colab": {
          "base_uri": "https://localhost:8080/"
        }
      },
      "source": [
        "d = 13\n",
        "Sw = np.zeros((d, d))\n",
        "for label, mv in zip(range(1,4), mean_vecs):\n",
        "  class_scatter = np.zeros((d,d))\n",
        "\n",
        "for row in X_train_std[y_train == label]:\n",
        "  row, mv = row.reshape(d, 1), mv.reshape(d, 1)\n",
        "  class_scatter += (row - mv).dot((row - mv).T)\n",
        "  Sw += class_scatter\n",
        "\n",
        "print('Within-class scatter matrix: %sx%s' % (Sw.shape[0], Sw.shape[1]))\n",
        "print('Class label distribution: %s' % np.bincount(y_train)[1:])"
      ],
      "execution_count": null,
      "outputs": [
        {
          "output_type": "stream",
          "text": [
            "Within-class scatter matrix: 13x13\n",
            "Class label distribution: [40 49 34]\n"
          ],
          "name": "stdout"
        }
      ]
    },
    {
      "cell_type": "code",
      "metadata": {
        "id": "VuLEC30W_sND",
        "outputId": "69041a57-df77-4650-833e-96b2873536c4",
        "colab": {
          "base_uri": "https://localhost:8080/"
        }
      },
      "source": [
        "Sw"
      ],
      "execution_count": null,
      "outputs": [
        {
          "output_type": "execute_result",
          "data": {
            "text/plain": [
              "array([[ 2.3914e+02,  5.0461e+00,  1.0910e+02,  7.2239e+01,  1.6995e+01,\n",
              "         4.0633e+01, -9.6546e+00,  7.3346e+01,  4.8058e+01,  3.6008e+01,\n",
              "         4.3413e+01,  2.2164e+01, -5.9378e+00],\n",
              "       [ 5.0461e+00,  4.0531e+02,  4.1718e+01,  3.1217e+01, -6.0148e+01,\n",
              "         3.3056e+01, -4.4596e+01,  1.4159e+02, -3.9501e+01, -1.7909e+01,\n",
              "         2.9819e+01,  4.5143e+01,  1.5385e+01],\n",
              "       [ 1.0910e+02,  4.1718e+01,  3.0922e+02,  2.4036e+02,  1.1727e+02,\n",
              "         9.9943e+01,  3.7227e+01, -8.5926e+01,  1.5140e+01,  2.2381e+01,\n",
              "         1.7795e+01, -1.5344e+00, -7.1246e+01],\n",
              "       [ 7.2239e+01,  3.1217e+01,  2.4036e+02,  2.7457e+02,  1.0074e+02,\n",
              "         6.7675e+01,  4.2205e+01, -9.2904e+01,  3.6890e+01, -6.6729e+00,\n",
              "        -1.6712e+01, -3.3855e+01, -6.7130e+01],\n",
              "       [ 1.6995e+01, -6.0148e+01,  1.1727e+02,  1.0074e+02,  3.8277e+02,\n",
              "        -2.1965e+01,  9.2777e+01, -3.4445e+02,  6.2637e+01,  5.2124e+01,\n",
              "        -1.9955e+01, -7.3887e+01, -1.5377e+01],\n",
              "       [ 4.0633e+01,  3.3056e+01,  9.9943e+01,  6.7675e+01, -2.1965e+01,\n",
              "         1.7063e+02,  5.0608e+00,  1.1873e+02,  9.6858e+01,  8.5756e+01,\n",
              "        -2.9112e+01, -4.6457e+00, -1.7202e+01],\n",
              "       [-9.6546e+00, -4.4596e+01,  3.7227e+01,  4.2205e+01,  9.2777e+01,\n",
              "         5.0608e+00,  5.5832e+01, -1.4707e+02,  3.5096e+01,  4.7420e+01,\n",
              "        -4.0346e+01, -4.9365e+01, -3.0960e+01],\n",
              "       [ 7.3346e+01,  1.4159e+02, -8.5926e+01, -9.2904e+01, -3.4445e+02,\n",
              "         1.1873e+02, -1.4707e+02,  7.8697e+02,  5.3443e+01,  1.3494e+01,\n",
              "         6.7705e+01,  7.2691e+01,  4.4814e+01],\n",
              "       [ 4.8058e+01, -3.9501e+01,  1.5140e+01,  3.6890e+01,  6.2637e+01,\n",
              "         9.6858e+01,  3.5096e+01,  5.3443e+01,  2.1266e+02,  2.0522e+02,\n",
              "        -1.0274e+02, -5.1592e+01,  5.3780e+00],\n",
              "       [ 3.6008e+01, -1.7909e+01,  2.2381e+01, -6.6729e+00,  5.2124e+01,\n",
              "         8.5756e+01,  4.7420e+01,  1.3494e+01,  2.0522e+02,  4.3994e+02,\n",
              "        -1.7512e+02, -4.2111e+01,  2.0262e+01],\n",
              "       [ 4.3413e+01,  2.9819e+01,  1.7795e+01, -1.6712e+01, -1.9955e+01,\n",
              "        -2.9112e+01, -4.0346e+01,  6.7705e+01, -1.0274e+02, -1.7512e+02,\n",
              "         1.6743e+02,  4.2359e+01,  7.2686e-01],\n",
              "       [ 2.2164e+01,  4.5143e+01, -1.5344e+00, -3.3855e+01, -7.3887e+01,\n",
              "        -4.6457e+00, -4.9365e+01,  7.2691e+01, -5.1592e+01, -4.2111e+01,\n",
              "         4.2359e+01,  8.9270e+01,  3.7460e+01],\n",
              "       [-5.9378e+00,  1.5385e+01, -7.1246e+01, -6.7130e+01, -1.5377e+01,\n",
              "        -1.7202e+01, -3.0960e+01,  4.4814e+01,  5.3780e+00,  2.0262e+01,\n",
              "         7.2686e-01,  3.7460e+01,  7.7214e+01]])"
            ]
          },
          "metadata": {
            "tags": []
          },
          "execution_count": 6
        }
      ]
    },
    {
      "cell_type": "code",
      "metadata": {
        "id": "ywMZn9oTQJVO",
        "outputId": "f563d1e8-5a0a-4e56-a4b5-6987722d2dbc",
        "colab": {
          "base_uri": "https://localhost:8080/"
        }
      },
      "source": [
        "d = 13\n",
        "Sw = np.zeros((d,d))\n",
        "for label, mv in zip(range(1,4), mean_vecs):\n",
        "  class_scatter = np.cov(X_train_std[y_train==label].T)\n",
        "  Sw += class_scatter\n",
        "\n",
        "print('Scaled within-class scatter matrix: %sx%s' % (Sw.shape[0], Sw.shape[1]))\n",
        "Sw"
      ],
      "execution_count": null,
      "outputs": [
        {
          "output_type": "stream",
          "text": [
            "Scaled within-class scatter matrix: 13x13\n"
          ],
          "name": "stdout"
        },
        {
          "output_type": "execute_result",
          "data": {
            "text/plain": [
              "array([[ 1.2372, -0.1354, -0.027 , -0.1133, -0.0408,  0.3137,  0.1238,\n",
              "         0.1476,  0.2537,  0.4081,  0.1966, -0.0196,  0.1289],\n",
              "       [-0.1354,  2.0888,  0.2347,  0.3302, -0.0476, -0.0332, -0.0639,\n",
              "         0.1292, -0.0319, -0.4473, -0.3483,  0.244 , -0.2925],\n",
              "       [-0.027 ,  0.2347,  2.5068,  1.5602,  0.5118,  0.3683,  0.4064,\n",
              "         0.3823,  0.2164,  0.1811, -0.0159,  0.2354,  0.0223],\n",
              "       [-0.1133,  0.3302,  1.5602,  1.9763,  0.1788,  0.168 ,  0.2359,\n",
              "         0.2394,  0.1184, -0.0358, -0.154 ,  0.2889, -0.1608],\n",
              "       [-0.0408, -0.0476,  0.5118,  0.1788,  2.5754,  0.0343,  0.1929,\n",
              "        -0.5529,  0.439 ,  0.1942, -0.0988, -0.242 ,  0.3168],\n",
              "       [ 0.3137, -0.0332,  0.3683,  0.168 ,  0.0343,  1.5289,  0.82  ,\n",
              "        -0.1777,  0.9266,  0.5723, -0.1338,  0.4365,  0.1162],\n",
              "       [ 0.1238, -0.0639,  0.4064,  0.2359,  0.1929,  0.82  ,  0.8921,\n",
              "        -0.3669,  0.7341,  0.4326, -0.0812,  0.2873,  0.0191],\n",
              "       [ 0.1476,  0.1292,  0.3823,  0.2394, -0.5529, -0.1777, -0.3669,\n",
              "         2.4117, -0.1086,  0.0762,  0.135 , -0.2913,  0.0935],\n",
              "       [ 0.2537, -0.0319,  0.2164,  0.1184,  0.439 ,  0.9266,  0.7341,\n",
              "        -0.1086,  2.3348,  0.7062, -0.1693,  0.2316,  0.1913],\n",
              "       [ 0.4081, -0.4473,  0.1811, -0.0358,  0.1942,  0.5723,  0.4326,\n",
              "         0.0762,  0.7062,  1.4077, -0.2796, -0.1307,  0.2964],\n",
              "       [ 0.1966, -0.3483, -0.0159, -0.154 , -0.0988, -0.1338, -0.0812,\n",
              "         0.135 , -0.1693, -0.2796,  1.2024, -0.0684,  0.1463],\n",
              "       [-0.0196,  0.244 ,  0.2354,  0.2889, -0.242 ,  0.4365,  0.2873,\n",
              "        -0.2913,  0.2316, -0.1307, -0.0684,  0.9457, -0.1729],\n",
              "       [ 0.1289, -0.2925,  0.0223, -0.1608,  0.3168,  0.1162,  0.0191,\n",
              "         0.0935,  0.1913,  0.2964,  0.1463, -0.1729,  0.9199]])"
            ]
          },
          "metadata": {
            "tags": []
          },
          "execution_count": 8
        }
      ]
    },
    {
      "cell_type": "code",
      "metadata": {
        "id": "hPV3UJnrRoKH",
        "outputId": "01e7d402-6353-4041-92c2-4105eb146120",
        "colab": {
          "base_uri": "https://localhost:8080/"
        }
      },
      "source": [
        "mean_overall = np.mean(X_train_std, axis=0)\n",
        "d = 13 # number of features\n",
        "Sb = np.zeros((d, d))\n",
        "for i, mean_vec in enumerate(mean_vecs):\n",
        "    n = X_train_std[y_train == i + 1, :].shape[0]\n",
        "    mean_vec = mean_vec.reshape(d, 1) # make column vector\n",
        "    mean_overall = mean_overall.reshape(d, 1)\n",
        "    Sb += n * (mean_vec - mean_overall).dot((mean_vec - mean_overall).T)\n",
        "\n",
        "print('Between-class scatter matrix: %sx%s' % (Sb.shape[0], Sb.shape[1]))\n",
        "Sb"
      ],
      "execution_count": null,
      "outputs": [
        {
          "output_type": "stream",
          "text": [
            "Between-class scatter matrix: 13x13\n"
          ],
          "name": "stdout"
        },
        {
          "output_type": "execute_result",
          "data": {
            "text/plain": [
              "array([[ 7.4006e+01,  1.5789e+01,  3.1652e+01, -3.0356e+01,  3.0227e+01,\n",
              "         2.0089e+01,  1.8649e+01, -1.3573e+01,  7.8537e+00,  5.0577e+01,\n",
              "        -1.3573e+01,  6.5665e+00,  7.0349e+01],\n",
              "       [ 1.5789e+01,  3.9295e+01,  1.3640e+01,  2.4677e+01,  3.5317e+00,\n",
              "        -3.8982e+01, -4.9090e+01,  2.7017e+01, -2.7369e+01,  4.7581e+01,\n",
              "        -5.2694e+01, -5.2700e+01, -1.1033e+01],\n",
              "       [ 3.1652e+01,  1.3640e+01,  1.4858e+01, -7.0111e+00,  1.2369e+01,\n",
              "         2.9793e-01, -2.1969e+00, -7.0909e-02, -2.2087e+00,  2.8684e+01,\n",
              "        -1.5351e+01, -7.5624e+00,  2.5096e+01],\n",
              "       [-3.0356e+01,  2.4677e+01, -7.0111e+00,  3.9466e+01, -1.4928e+01,\n",
              "        -4.5760e+01, -5.3668e+01,  3.1506e+01, -2.8407e+01,  1.1157e+01,\n",
              "        -3.7614e+01, -4.9607e+01, -5.1438e+01],\n",
              "       [ 3.0227e+01,  3.5317e+00,  1.2369e+01, -1.4928e+01,  1.2583e+01,\n",
              "         1.1719e+01,  1.1926e+01, -7.9727e+00,  5.5663e+00,  1.7670e+01,\n",
              "        -1.5002e+00,  7.0753e+00,  3.0848e+01],\n",
              "       [ 2.0089e+01, -3.8982e+01,  2.9793e-01, -4.5760e+01,  1.1719e+01,\n",
              "         5.7562e+01,  6.8975e+01, -3.9709e+01,  3.7111e+01, -3.0579e+01,\n",
              "         5.6289e+01,  6.6938e+01,  5.0460e+01],\n",
              "       [ 1.8649e+01, -4.9090e+01, -2.1969e+00, -5.3668e+01,  1.1926e+01,\n",
              "         6.8975e+01,  8.3089e+01, -4.7606e+01,  4.4882e+01, -4.1600e+01,\n",
              "         7.0138e+01,  8.1570e+01,  5.6195e+01],\n",
              "       [-1.3573e+01,  2.7017e+01, -7.0909e-02,  3.1506e+01, -7.9727e+00,\n",
              "        -3.9709e+01, -4.7606e+01,  2.7395e+01, -2.5623e+01,  2.1356e+01,\n",
              "        -3.8972e+01, -4.6249e+01, -3.4585e+01],\n",
              "       [ 7.8537e+00, -2.7369e+01, -2.2087e+00, -2.8407e+01,  5.5663e+00,\n",
              "         3.7111e+01,  4.4882e+01, -2.5623e+01,  2.4314e+01, -2.4376e+01,\n",
              "         3.8818e+01,  4.4434e+01,  2.8519e+01],\n",
              "       [ 5.0577e+01,  4.7581e+01,  2.8684e+01,  1.1157e+01,  1.7670e+01,\n",
              "        -3.0579e+01, -4.1600e+01,  2.1356e+01, -2.4376e+01,  7.2241e+01,\n",
              "        -6.0272e+01, -5.0914e+01,  2.1409e+01],\n",
              "       [-1.3573e+01, -5.2694e+01, -1.5351e+01, -3.7614e+01, -1.5002e+00,\n",
              "         5.6289e+01,  7.0138e+01, -3.8972e+01,  3.8818e+01, -6.0272e+01,\n",
              "         7.1513e+01,  7.3785e+01,  2.3194e+01],\n",
              "       [ 6.5665e+00, -5.2700e+01, -7.5624e+00, -4.9607e+01,  7.0753e+00,\n",
              "         6.6938e+01,  8.1570e+01, -4.6249e+01,  4.4434e+01, -5.0914e+01,\n",
              "         7.3785e+01,  8.2052e+01,  4.5458e+01],\n",
              "       [ 7.0349e+01, -1.1033e+01,  2.5096e+01, -5.1438e+01,  3.0848e+01,\n",
              "         5.0460e+01,  5.6195e+01, -3.4585e+01,  2.8519e+01,  2.1409e+01,\n",
              "         2.3194e+01,  4.5458e+01,  8.5749e+01]])"
            ]
          },
          "metadata": {
            "tags": []
          },
          "execution_count": 9
        }
      ]
    },
    {
      "cell_type": "markdown",
      "metadata": {
        "id": "2PFbNa5GSVEL"
      },
      "source": [
        "## ขั้นตอนที่ 4: สร้าง Eigenvectors และ Eigenvalues ของเมตริกซ์ Sw^(-1).Sb"
      ]
    },
    {
      "cell_type": "code",
      "metadata": {
        "id": "gWu2y898SPE5"
      },
      "source": [
        "eigen_vals, eigen_vecs = np.linalg.eig(np.linalg.inv(Sw).dot(Sb))"
      ],
      "execution_count": null,
      "outputs": []
    },
    {
      "cell_type": "markdown",
      "metadata": {
        "id": "xNPjuCFJSq3v"
      },
      "source": [
        "## ขั้นตอนที่ 5: เรียงลำดับ Eigenvectors ตามค่า Eigenvalues จากมากไปน้อย"
      ]
    },
    {
      "cell_type": "code",
      "metadata": {
        "id": "EL_d_STmStIY",
        "outputId": "6b2dfd3e-3823-44a0-d7d7-3dbb5d8e7441",
        "colab": {
          "base_uri": "https://localhost:8080/"
        }
      },
      "source": [
        "eigen_pairs = [(np.abs(eigen_vals[i]), eigen_vecs[:,i])\n",
        "               for i in range(len(eigen_vals))]\n",
        "eigen_pairs = sorted(eigen_pairs, key=lambda k: k[0], reverse=True)\n",
        "\n",
        "print('Eigenvalues in descending order:\\n')\n",
        "for eigen_val in eigen_pairs:\n",
        "    print(eigen_val[0])"
      ],
      "execution_count": null,
      "outputs": [
        {
          "output_type": "stream",
          "text": [
            "Eigenvalues in descending order:\n",
            "\n",
            "361.33531238827\n",
            "179.54536969514493\n",
            "5.684341886080802e-14\n",
            "2.6590721522162586e-14\n",
            "2.5745936227602e-14\n",
            "2.5745936227602e-14\n",
            "2.114107009806632e-14\n",
            "2.114107009806632e-14\n",
            "1.1951199411439492e-14\n",
            "1.1951199411439492e-14\n",
            "1.1523163646453872e-14\n",
            "2.807221389845901e-15\n",
            "1.0472854344263524e-16\n"
          ],
          "name": "stdout"
        }
      ]
    },
    {
      "cell_type": "markdown",
      "metadata": {
        "id": "GPCd4PEsTA6l"
      },
      "source": [
        "## ขั้นตอนที่ 6: เลือก k Eigenvectors เพื่อนำมาสร้าง Projection Matrix W ขนาด dxk"
      ]
    },
    {
      "cell_type": "code",
      "metadata": {
        "id": "eQWIdbUJTEDt",
        "outputId": "8f128128-63c5-43f3-d861-bb6f8bad3d80",
        "colab": {
          "base_uri": "https://localhost:8080/",
          "height": 317
        }
      },
      "source": [
        "import matplotlib.pyplot as plt\n",
        "\n",
        "tot = sum(eigen_vals.real)\n",
        "discr = [(i / tot) for i in sorted(eigen_vals.real, reverse=True)]\n",
        "cum_discr = np.cumsum(discr)\n",
        "plt.bar(range(1, 14), discr, alpha=0.5, align='center', label='Individual \"discriminability\"')\n",
        "plt.step(range(1, 14), cum_discr, where='mid', label='Cumulative \"discriminability\"')\n",
        "plt.ylabel('\"Discriminability\" ratio')\n",
        "plt.xlabel('Linear Discriminants')\n",
        "plt.ylim([-0.1, 1.1])\n",
        "plt.legend(loc='best')\n",
        "plt.tight_layout()\n",
        "plt.show()"
      ],
      "execution_count": null,
      "outputs": [
        {
          "output_type": "display_data",
          "data": {
            "image/png": "[encoded data removed]",
            "text/plain": [
              "<Figure size 432x288 with 1 Axes>"
            ]
          },
          "metadata": {
            "tags": [],
            "needs_background": "light"
          }
        }
      ]
    },
    {
      "cell_type": "code",
      "metadata": {
        "id": "rDuU_nu2UbMg",
        "outputId": "866515ca-ec7d-4a46-8b1e-df583d0d40da",
        "colab": {
          "base_uri": "https://localhost:8080/"
        }
      },
      "source": [
        "w = np.hstack((eigen_pairs[0][1][:, np.newaxis].real,\n",
        "               eigen_pairs[1][1][:, np.newaxis].real))\n",
        "print('Matrix W:\\n', w)"
      ],
      "execution_count": null,
      "outputs": [
        {
          "output_type": "stream",
          "text": [
            "Matrix W:\n",
            " [[-0.0654  0.5028]\n",
            " [ 0.1189  0.2211]\n",
            " [-0.0367  0.3011]\n",
            " [ 0.2389 -0.2725]\n",
            " [-0.0249 -0.0227]\n",
            " [ 0.1168 -0.2075]\n",
            " [-0.6707 -0.0257]\n",
            " [-0.0666 -0.1113]\n",
            " [ 0.0216 -0.1281]\n",
            " [ 0.3818  0.2408]\n",
            " [-0.1165 -0.2886]\n",
            " [-0.4066  0.0809]\n",
            " [-0.36    0.559 ]]\n"
          ],
          "name": "stdout"
        }
      ]
    },
    {
      "cell_type": "markdown",
      "metadata": {
        "id": "DwY9yWZjZR5u"
      },
      "source": [
        "## ขั้นตอนที่ 7: แปลงข้อมูล X เป็น X' โดย X' = X.W"
      ]
    },
    {
      "cell_type": "code",
      "metadata": {
        "id": "I7dfOYkAUn-X",
        "outputId": "0962fcb9-3d05-46f2-a973-dbd2ed2f801a",
        "colab": {
          "base_uri": "https://localhost:8080/",
          "height": 297
        }
      },
      "source": [
        "X_train_lda = X_train_std.dot(w)\n",
        "colors = ['r', 'b', 'g']\n",
        "markers = ['s', 'x', 'o']\n",
        "for l, c, m in zip(np.unique(y_train), colors, markers):\n",
        "    plt.scatter(X_train_lda[y_train==l, 0],\n",
        "                X_train_lda[y_train==l, 1] * (-1),\n",
        "                c=c, label=l, marker=m)\n",
        "plt.xlabel('LD 1')\n",
        "plt.ylabel('LD 2')\n",
        "plt.legend(loc='upper right')\n",
        "plt.tight_layout()\n",
        "plt.show()"
      ],
      "execution_count": null,
      "outputs": [
        {
          "output_type": "display_data",
          "data": {
            "image/png": "[encoded data removed]",
            "text/plain": [
              "<Figure size 432x288 with 1 Axes>"
            ]
          },
          "metadata": {
            "tags": [],
            "needs_background": "light"
          }
        }
      ]
    },
    {
      "cell_type": "markdown",
      "metadata": {
        "id": "wfbnD_AZVJ2q"
      },
      "source": [
        "## LDA ด้วย sklearn API"
      ]
    },
    {
      "cell_type": "code",
      "metadata": {
        "id": "Z5DSgoKjWQvh"
      },
      "source": [
        "from matplotlib.colors import ListedColormap\n",
        "def plot_decision_regions(X, y, classifier, resolution=0.02):\n",
        "    \n",
        "    # setup marker generator and color map\n",
        "    markers = ('s', 'x', 'o', '^', 'v')\n",
        "    colors = ('red', 'blue', 'lightgreen', 'gray', 'cyan')\n",
        "    cmap = ListedColormap(colors[:len(np.unique(y))])\n",
        "    \n",
        "    # plot the decision surface\n",
        "    x1_min, x1_max = X[:, 0].min() - 1, X[:, 0].max() + 1\n",
        "    x2_min, x2_max = X[:, 1].min() - 1, X[:, 1].max() + 1\n",
        "    xx1, xx2 = np.meshgrid(np.arange(x1_min, x1_max, resolution),\n",
        "                           np.arange(x2_min, x2_max, resolution))\n",
        "    Z = classifier.predict(np.array([xx1.ravel(), xx2.ravel()]).T)\n",
        "    Z = Z.reshape(xx1.shape)\n",
        "    plt.contourf(xx1, xx2, Z, alpha=0.4, cmap=cmap)\n",
        "    plt.xlim(xx1.min(), xx1.max())\n",
        "    plt.ylim(xx2.min(), xx2.max())\n",
        "    \n",
        "    # plot examples by class\n",
        "    for idx, cl in enumerate(np.unique(y)):\n",
        "        plt.scatter(x=X[y == cl, 0],\n",
        "                    y=X[y == cl, 1],\n",
        "                    alpha=0.6,\n",
        "                    color=cmap(idx),\n",
        "                    edgecolor='black',\n",
        "                    marker=markers[idx],\n",
        "                    label=cl)"
      ],
      "execution_count": null,
      "outputs": []
    },
    {
      "cell_type": "code",
      "metadata": {
        "id": "xf3D7akaZqzV",
        "outputId": "a51714a4-c89f-447e-bcec-9cca3a03d2d2",
        "colab": {
          "base_uri": "https://localhost:8080/",
          "height": 35
        }
      },
      "source": [
        "from sklearn.discriminant_analysis import LinearDiscriminantAnalysis as LDA\n",
        "lda = LDA(n_components=None)\n",
        "X_train_lda = lda.fit_transform(X_train_std, y_train)\n",
        "lda.explained_variance_ratio_"
      ],
      "execution_count": null,
      "outputs": [
        {
          "output_type": "execute_result",
          "data": {
            "text/plain": [
              "array([0.6611, 0.3389])"
            ]
          },
          "metadata": {
            "tags": []
          },
          "execution_count": 39
        }
      ]
    },
    {
      "cell_type": "code",
      "metadata": {
        "id": "YBWc6zGxVPdG"
      },
      "source": [
        "lda = LDA(n_components=2)\n",
        "X_train_lda = lda.fit_transform(X_train_std, y_train)"
      ],
      "execution_count": null,
      "outputs": []
    },
    {
      "cell_type": "code",
      "metadata": {
        "id": "vbhVl9L_VX1Z",
        "outputId": "db904bb3-0f87-4712-c7d3-8a92337b37c4",
        "colab": {
          "base_uri": "https://localhost:8080/",
          "height": 297
        }
      },
      "source": [
        "from sklearn.linear_model import LogisticRegression\n",
        "\n",
        "lr = LogisticRegression(multi_class='ovr', random_state=2020,\n",
        "                        solver='lbfgs')\n",
        "lr = lr.fit(X_train_lda, y_train)\n",
        "plot_decision_regions(X_train_lda, y_train, classifier=lr)\n",
        "plt.xlabel('LD 1')\n",
        "plt.ylabel('LD 2')\n",
        "plt.legend(loc='lower right')\n",
        "plt.tight_layout()\n",
        "plt.show()"
      ],
      "execution_count": null,
      "outputs": [
        {
          "output_type": "display_data",
          "data": {
            "image/png": "[encoded data removed]",
            "text/plain": [
              "<Figure size 432x288 with 1 Axes>"
            ]
          },
          "metadata": {
            "tags": [],
            "needs_background": "light"
          }
        }
      ]
    },
    {
      "cell_type": "code",
      "metadata": {
        "id": "Mj_4OxuOVvWm",
        "outputId": "c1d5b7a4-a236-4bf8-fc1e-31a809d5cef8",
        "colab": {
          "base_uri": "https://localhost:8080/",
          "height": 297
        }
      },
      "source": [
        "X_test_lda = lda.transform(X_test_std)\n",
        "plot_decision_regions(X_test_lda, y_test, classifier=lr)\n",
        "plt.xlabel('LD 1')\n",
        "plt.ylabel('LD 2')\n",
        "plt.legend(loc='lower right')\n",
        "plt.tight_layout()\n",
        "plt.show()"
      ],
      "execution_count": null,
      "outputs": [
        {
          "output_type": "display_data",
          "data": {
            "image/png": "[encoded data removed]",
            "text/plain": [
              "<Figure size 432x288 with 1 Axes>"
            ]
          },
          "metadata": {
            "tags": [],
            "needs_background": "light"
          }
        }
      ]
    },
    {
      "cell_type": "code",
      "metadata": {
        "id": "ByQqj8BNW3CI",
        "outputId": "c9eb9193-bbcf-405f-fabe-34e342aa1eb2",
        "colab": {
          "base_uri": "https://localhost:8080/",
          "height": 35
        }
      },
      "source": [
        "from sklearn.metrics import accuracy_score\n",
        "\n",
        "y_pred_lda = lr.predict(X_test_lda)\n",
        "acc = accuracy_score(y_test, y_pred_lda)\n",
        "print('Accuracy: %s' % acc)"
      ],
      "execution_count": null,
      "outputs": [
        {
          "output_type": "stream",
          "text": [
            "Accuracy: 0.9629629629629629\n"
          ],
          "name": "stdout"
        }
      ]
    }
  ]
}